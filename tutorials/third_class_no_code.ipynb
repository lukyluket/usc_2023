{
 "cells": [
  {
   "cell_type": "markdown",
   "id": "e8367984",
   "metadata": {},
   "source": [
    "# Computing entanglement\n",
    "In this notebook we will learn how to compute entanglement between various bipartitions. In this way we will also learn how to group and split indices. We first start with a state of two qubits. \n",
    "$|\\psi \\rangle = \\sum_{ij}c_{ij} |ij\\rangle$ (see the first notebook to see how to construct it). Start constructing it as a four dimensional normalized vector"
   ]
  },
  {
   "cell_type": "code",
   "execution_count": null,
   "id": "a3250258",
   "metadata": {},
   "outputs": [],
   "source": []
  },
  {
   "cell_type": "markdown",
   "id": "25c6e781",
   "metadata": {},
   "source": [
    "Then you can reshape it to a tensor with two indices\n"
   ]
  },
  {
   "cell_type": "code",
   "execution_count": null,
   "id": "bc5012eb",
   "metadata": {},
   "outputs": [],
   "source": []
  },
  {
   "cell_type": "markdown",
   "id": "0e8c3c44",
   "metadata": {},
   "source": [
    "Now you can construct the reduced density matrix of the first spin and of the second remember that \n",
    "\n",
    "$\\rho_1 = \\textrm{tr}_2 (|\\psi\\rangle\\langle \\psi|)$\n",
    "\n",
    "$\\rho_2 = \\textrm{tr}_1 (|\\psi\\rangle\\langle \\psi|)$\n"
   ]
  },
  {
   "cell_type": "code",
   "execution_count": null,
   "id": "4029b80e",
   "metadata": {},
   "outputs": [],
   "source": []
  },
  {
   "cell_type": "markdown",
   "id": "b49845f9",
   "metadata": {},
   "source": [
    "Notice that the two reduced density matrices are different but both have trace 1 and are Hermitian"
   ]
  },
  {
   "cell_type": "code",
   "execution_count": null,
   "id": "bdb89dda",
   "metadata": {},
   "outputs": [],
   "source": []
  },
  {
   "cell_type": "markdown",
   "id": "c2bb7867",
   "metadata": {},
   "source": [
    "Also have a look to their eigenvalues "
   ]
  },
  {
   "cell_type": "code",
   "execution_count": null,
   "id": "5cc86d8b",
   "metadata": {},
   "outputs": [],
   "source": []
  },
  {
   "cell_type": "markdown",
   "id": "baa25df4",
   "metadata": {},
   "source": [
    "We learn that the two matrices are different but have the same spectrum. Since the spectrum iods positive we can interpret it as a probability distrubition and compute its entropies. The VN Entropy is called entanglement entropy \n",
    "\n",
    "$S = -tr (\\rho log \\rho)$\n",
    "\n",
    "but there are also Tsallis entropies defined as \n",
    "\n",
    "$E_{n} = \\textrm{tr} \\rho ^n$ \n",
    "\n",
    "and Renyii entropies\n",
    "\n",
    "$S_{n} = \\frac{log{E_n}}{1-n}$\n",
    "\n",
    "Can you show that $\\lim_{n \\to 1} S_n =S $? (analytically you need to use the fact that the trace of $\\rho$ is 1).\n",
    "\n",
    "Let's compute them here. You have to pay attention to the fact that if you have a zero eigenvalue, it contributes zero to the entanglement entropy. Define the corresponding functions that takes the spectrum and the order of the reny entropies and returns, VN entropy, Tsallis and Renyi"
   ]
  },
  {
   "cell_type": "code",
   "execution_count": null,
   "id": "cb2420ca",
   "metadata": {},
   "outputs": [],
   "source": []
  },
  {
   "cell_type": "markdown",
   "id": "9d66770c",
   "metadata": {},
   "source": [
    "Now let's create the state of two qubits using the code in the first notebook"
   ]
  },
  {
   "cell_type": "code",
   "execution_count": null,
   "id": "48eefb3e",
   "metadata": {},
   "outputs": [],
   "source": []
  },
  {
   "cell_type": "markdown",
   "id": "1193e7a7",
   "metadata": {},
   "source": [
    "Let's repeat the above exercise, "
   ]
  },
  {
   "cell_type": "code",
   "execution_count": null,
   "id": "1af535c7",
   "metadata": {},
   "outputs": [],
   "source": []
  },
  {
   "cell_type": "code",
   "execution_count": null,
   "id": "f05676ea",
   "metadata": {},
   "outputs": [],
   "source": []
  },
  {
   "cell_type": "markdown",
   "id": "8c3ed266",
   "metadata": {},
   "source": [
    "We see that the probability distribution have zero entropy, meaning it is completely ordered. Indeed the state was a product state and the reduced density matrices are just the projector on the original state\n",
    "\n",
    "$\\rho_1 = |\\psi_1\\rangle \\langle \\psi_1|$\n",
    "\n",
    "$\\rho_2 = |\\psi_2\\rangle \\langle \\psi_2|$\n",
    "\n",
    "as you can check"
   ]
  },
  {
   "cell_type": "code",
   "execution_count": null,
   "id": "e47f1ebb",
   "metadata": {},
   "outputs": [],
   "source": []
  },
  {
   "cell_type": "markdown",
   "id": "f34d4066",
   "metadata": {},
   "source": [
    "# SVD and entanglement\n",
    "Rather than diagonalizing the reduced density matrix of the bipartition we can compute the singular value decomposition of the state (mathematically this is exactly the definition of the singular value decomposition, $svd(M) =\\sqrt{( eig (MM^{\\dagger}))}$"
   ]
  },
  {
   "cell_type": "code",
   "execution_count": null,
   "id": "125cad23",
   "metadata": {},
   "outputs": [],
   "source": []
  },
  {
   "cell_type": "markdown",
   "id": "472267e3",
   "metadata": {},
   "source": [
    "So we we will use this fact since this allows to avoid constructing explicilty the reduced density matrices. Now we show how to compute the spectrum of the three two bodies reduced density matrices contained in a three spin state. "
   ]
  },
  {
   "cell_type": "code",
   "execution_count": null,
   "id": "1316b1f4",
   "metadata": {},
   "outputs": [],
   "source": []
  },
  {
   "cell_type": "code",
   "execution_count": null,
   "id": "b18c3ad4",
   "metadata": {},
   "outputs": [],
   "source": []
  }
 ],
 "metadata": {
  "kernelspec": {
   "display_name": "Python 3 (ipykernel)",
   "language": "python",
   "name": "python3"
  },
  "language_info": {
   "codemirror_mode": {
    "name": "ipython",
    "version": 3
   },
   "file_extension": ".py",
   "mimetype": "text/x-python",
   "name": "python",
   "nbconvert_exporter": "python",
   "pygments_lexer": "ipython3",
   "version": "3.9.13"
  }
 },
 "nbformat": 4,
 "nbformat_minor": 5
}
