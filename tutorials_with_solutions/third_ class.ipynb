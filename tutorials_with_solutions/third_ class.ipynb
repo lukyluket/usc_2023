{
 "cells": [
  {
   "cell_type": "markdown",
   "id": "e8367984",
   "metadata": {},
   "source": [
    "# Computing entanglement\n",
    "In this notebook we will learn how to compute entanglement between various bipartitions. In this way we will also learn how to group and split indices. We first start with a state of two qubits. \n",
    "$|\\psi \\rangle = \\sum_{ij}c_{ij} |ij\\rangle$ (see the first notebook to see how to construct it). Start constructing it as a four dimensional normalized vector"
   ]
  },
  {
   "cell_type": "code",
   "execution_count": 1,
   "id": "647c7dfc",
   "metadata": {},
   "outputs": [],
   "source": [
    "import numpy as np\n",
    "import scipy.linalg as LA\n",
    "\n",
    "c_0 =np.random.rand()+1j*np.random.rand()\n",
    "c_1 =np.random.rand()+1j*np.random.rand()\n",
    "c_2 =np.random.rand()+1j*np.random.rand()\n",
    "c_3 =np.random.rand()+1j*np.random.rand()\n",
    "phi = np.array([[c_0],[c_1],[c_2],[c_3]])\n",
    "phi = phi/LA.norm(phi)\n",
    "\n"
   ]
  },
  {
   "cell_type": "markdown",
   "id": "25c6e781",
   "metadata": {},
   "source": [
    "Then you can reshape it to a tensor with two indices\n"
   ]
  },
  {
   "cell_type": "code",
   "execution_count": 2,
   "id": "54b5c0a7",
   "metadata": {},
   "outputs": [
    {
     "name": "stdout",
     "output_type": "stream",
     "text": [
      "[[0.27982641+0.36019003j 0.41477133+0.47755966j]\n",
      " [0.37110173+0.38245104j 0.18158145+0.27368727j]]\n"
     ]
    }
   ],
   "source": [
    "phi=np.reshape(phi,[2,2])\n",
    "print(phi)"
   ]
  },
  {
   "cell_type": "markdown",
   "id": "0e8c3c44",
   "metadata": {},
   "source": [
    "Now you can construct the reduced density matrix of the first spin and of the second remember that \n",
    "\n",
    "$\\rho_1 = \\textrm{tr}_2 (|\\psi\\rangle\\langle \\psi|)$\n",
    "\n",
    "$\\rho_2 = \\textrm{tr}_1 (|\\psi\\rangle\\langle \\psi|)$\n"
   ]
  },
  {
   "cell_type": "code",
   "execution_count": 3,
   "id": "4029b80e",
   "metadata": {},
   "outputs": [
    {
     "name": "stdout",
     "output_type": "stream",
     "text": [
      "[[0.60813817+1.65892517e-17j 0.44761589-1.54418111e-04j]\n",
      " [0.44761589+1.54418111e-04j 0.39186183+1.05616313e-17j]]\n",
      "[[0.49202497+0.j         0.46013337-0.01635712j]\n",
      " [0.46013337+0.01635712j 0.50797503+0.j        ]]\n"
     ]
    }
   ],
   "source": [
    "rho_1 = phi@phi.T.conjugate()\n",
    "print(rho_1)\n",
    "rho_2 = phi.T@phi.conjugate()\n",
    "print(rho_2)"
   ]
  },
  {
   "cell_type": "markdown",
   "id": "b49845f9",
   "metadata": {},
   "source": [
    "Notice that the two reduced density matrices are different but both have trace 1 and are Hermitian"
   ]
  },
  {
   "cell_type": "code",
   "execution_count": 4,
   "id": "bdb89dda",
   "metadata": {},
   "outputs": [
    {
     "name": "stdout",
     "output_type": "stream",
     "text": [
      "(0.9999999999999999+2.7150882945180318e-17j)\n",
      "(0.9999999999999999+0j)\n",
      "3.469446951953614e-18j\n",
      "-0j\n"
     ]
    }
   ],
   "source": [
    "print(np.trace(rho_1))\n",
    "print(np.trace(rho_2))\n",
    "\n",
    "print(np.max(rho_1.T.conj()-rho_1))\n",
    "print(np.max(rho_2.T.conj()-rho_2))\n",
    "\n"
   ]
  },
  {
   "cell_type": "markdown",
   "id": "c2bb7867",
   "metadata": {},
   "source": [
    "Also have a look to their eigenvalues "
   ]
  },
  {
   "cell_type": "code",
   "execution_count": 5,
   "id": "5cc86d8b",
   "metadata": {},
   "outputs": [
    {
     "name": "stdout",
     "output_type": "stream",
     "text": [
      "[0.03950692 0.96049308]\n",
      "[0.03950692 0.96049308]\n"
     ]
    }
   ],
   "source": [
    "eig_rho_1, U_rho_1 =LA.eigh(rho_1)\n",
    "print(eig_rho_1)\n",
    "eig_rho_2, U_rho_2 =LA.eigh(rho_2)\n",
    "print(eig_rho_2)\n",
    "\n"
   ]
  },
  {
   "cell_type": "markdown",
   "id": "baa25df4",
   "metadata": {},
   "source": [
    "We learn that the two matrices are different but have the same spectrum. Since the spectrum iods positive we can interpret it as a probability distrubition and compute its entropies. The VN Entropy is called entanglement entropy \n",
    "\n",
    "$S = -tr (\\rho log \\rho)$\n",
    "\n",
    "but there are also Tsallis entropies defined as \n",
    "\n",
    "$E_{n} = \\textrm{tr} \\rho ^n$ \n",
    "\n",
    "and Renyii entropies\n",
    "\n",
    "$S_{n} = \\frac{log{E_n}}{1-n}$\n",
    "\n",
    "Can you show that $\\lim_{n \\to 1} S_n =S $? (analytically you need to use the fact that the trace of $\\rho$ is 1).\n",
    "\n",
    "Let's compute them here. You have to pay attention to the fact that if you have a zero eigenvalue, it contributes zero to the entanglement entropy."
   ]
  },
  {
   "cell_type": "code",
   "execution_count": 6,
   "id": "cb2420ca",
   "metadata": {},
   "outputs": [
    {
     "name": "stdout",
     "output_type": "stream",
     "text": [
      "0.16637393571472095\n",
      "0.9241077528586548\n",
      "0.07892659849163422\n",
      "0.16637393571472103\n",
      "0.9241077528586548\n",
      "0.07892659849163422\n"
     ]
    }
   ],
   "source": [
    "def compute_entropies(eig_rho,n):\n",
    "    cut_off =1.e-12\n",
    "    mask_sl=np.greater_equal(np.abs(eig_rho),cut_off)\n",
    "    eig_rho =eig_rho[mask_sl]\n",
    "    vn_ent =sum(-eig_rho*np.log(eig_rho))\n",
    "    tsallis_n = sum(eig_rho**n)\n",
    "    renyi_n =(np.log(tsallis_n)/(1-n))\n",
    "    return vn_ent,tsallis_n,renyi_n\n",
    "\n",
    "vn_ent_1,tsallis_2_1,renyi_2_1 =compute_entropies(eig_rho_1,2)\n",
    "print(vn_ent_1)\n",
    "print(tsallis_2_1)\n",
    "print(renyi_2_1)\n",
    "\n",
    "vn_ent_2,tsallis_2_2,renyi_2_2 =compute_entropies(eig_rho_2,2)\n",
    "print(vn_ent_2)\n",
    "print(tsallis_2_2)\n",
    "print(renyi_2_2)"
   ]
  },
  {
   "cell_type": "markdown",
   "id": "9d66770c",
   "metadata": {},
   "source": [
    "Now let's create the state of two qubits using the code in the first notebook"
   ]
  },
  {
   "cell_type": "code",
   "execution_count": 7,
   "id": "48eefb3e",
   "metadata": {},
   "outputs": [
    {
     "name": "stdout",
     "output_type": "stream",
     "text": [
      "[[-0.00795262+0.61915215j]\n",
      " [ 0.15721306+0.29297255j]\n",
      " [ 0.26837907+0.56635632j]\n",
      " [ 0.27332164+0.19633387j]]\n"
     ]
    },
    {
     "data": {
      "text/plain": [
       "0.9999999999999999"
      ]
     },
     "execution_count": 7,
     "metadata": {},
     "output_type": "execute_result"
    }
   ],
   "source": [
    "c_0 =np.random.rand()+1j*np.random.rand()\n",
    "c_1 =np.random.rand()+1j*np.random.rand()\n",
    "psi_1 = np.array([[c_0],[c_1]])\n",
    "psi_1= psi_1/LA.norm(psi_1)\n",
    "\n",
    "c_2 =np.random.rand()+1j*np.random.rand()\n",
    "c_3 =np.random.rand()+1j*np.random.rand()\n",
    "psi_2 = np.array([[c_2],[c_3]])\n",
    "psi_2= psi_2/LA.norm(psi_2)\n",
    "\n",
    "psi_12=np.kron(psi_1,psi_2)\n",
    "print(psi_12)\n",
    "LA.norm(psi_12)"
   ]
  },
  {
   "cell_type": "markdown",
   "id": "1193e7a7",
   "metadata": {},
   "source": [
    "Let's repeat the above exercise, "
   ]
  },
  {
   "cell_type": "code",
   "execution_count": 8,
   "id": "1af535c7",
   "metadata": {},
   "outputs": [
    {
     "name": "stdout",
     "output_type": "stream",
     "text": [
      "[[-0.00795262+0.61915215j  0.15721306+0.29297255j]\n",
      " [ 0.26837907+0.56635632j  0.27332164+0.19633387j]]\n",
      "[[0.49396149+3.17810577e-18j 0.44901658+2.19880986e-01j]\n",
      " [0.44901658-2.19880986e-01j 0.50603851+1.34301266e-17j]]\n",
      "[[0.77619943+0.j         0.36469307+0.20177423j]\n",
      " [0.36469307-0.20177423j 0.22380057+0.j        ]]\n"
     ]
    }
   ],
   "source": [
    "psi_12=np.reshape(psi_12,[2,2])\n",
    "print(psi_12)\n",
    "rhon_1 = psi_12@psi_12.T.conjugate()\n",
    "print(rhon_1)\n",
    "rhon_2 = psi_12.T@psi_12.conjugate()\n",
    "print(rhon_2)"
   ]
  },
  {
   "cell_type": "code",
   "execution_count": 9,
   "id": "f05676ea",
   "metadata": {},
   "outputs": [
    {
     "name": "stdout",
     "output_type": "stream",
     "text": [
      "[-1.38777878e-16  1.00000000e+00]\n",
      "[0. 1.]\n",
      "2.220446049250313e-16\n",
      "0.9999999999999996\n",
      "4.440892098500627e-16\n",
      "2.220446049250313e-16\n",
      "0.9999999999999996\n",
      "4.440892098500627e-16\n"
     ]
    }
   ],
   "source": [
    "eig_rhon_1, U_rho_1 =LA.eigh(rhon_1)\n",
    "print(eig_rhon_1)\n",
    "eig_rhon_2, U_rhon_2 =LA.eigh(rhon_2)\n",
    "print(eig_rhon_2)\n",
    "\n",
    "vn_ent_1,tsallis_2_1,renyi_2_1 =compute_entropies(eig_rhon_1,2)\n",
    "print(vn_ent_1)\n",
    "print(tsallis_2_1)\n",
    "print(renyi_2_1)\n",
    "\n",
    "vn_ent_2,tsallis_2_2,renyi_2_2 =compute_entropies(eig_rhon_2,2)\n",
    "print(vn_ent_2)\n",
    "print(tsallis_2_2)\n",
    "print(renyi_2_2)"
   ]
  },
  {
   "cell_type": "markdown",
   "id": "8c3ed266",
   "metadata": {},
   "source": [
    "We see that the probability distribution have zero entropy, meaning it is completely ordered. Indeed the state was a product state and the reduced density matrices are just the projector on the original state\n",
    "\n",
    "$\\rho_1 = |\\psi_1\\rangle \\langle \\psi_1|$\n",
    "\n",
    "$\\rho_2 = |\\psi_2\\rangle \\langle \\psi_2|$\n",
    "\n",
    "as you can check"
   ]
  },
  {
   "cell_type": "code",
   "execution_count": 10,
   "id": "e47f1ebb",
   "metadata": {},
   "outputs": [
    {
     "name": "stdout",
     "output_type": "stream",
     "text": [
      "3.1781057685861437e-18j\n",
      "(-2.7755575615628914e-17+0j)\n"
     ]
    }
   ],
   "source": [
    "\n",
    "rhon_1_check = np.reshape(np.kron(psi_1,psi_1.conj()),[2,2])\n",
    "rhon_2_check = np.reshape(np.kron(psi_2,psi_2.conj()),[2,2])\n",
    "print(np.max(rhon_1-rhon_1_check))\n",
    "print(np.max(rhon_2-rhon_2_check))"
   ]
  },
  {
   "cell_type": "markdown",
   "id": "f34d4066",
   "metadata": {},
   "source": [
    "# SVD and entanglement\n",
    "Rather than diagonalizing the reduced density matrix of the bipartition we can compute the singular value decomposition of the state (mathematically this is exactly the definition of the singular value decomposition, $svd(M) =\\sqrt{( eig (MM^{\\dagger}))}$"
   ]
  },
  {
   "cell_type": "code",
   "execution_count": 16,
   "id": "125cad23",
   "metadata": {},
   "outputs": [
    {
     "name": "stdout",
     "output_type": "stream",
     "text": [
      "[0.96049308 0.03950692]\n",
      "[0.03950692 0.96049308]\n",
      "[1.00000000e+00 7.51020224e-33]\n",
      "[-1.38777878e-16  1.00000000e+00]\n"
     ]
    }
   ],
   "source": [
    "_,spect_rho,_= LA.svd(phi)\n",
    "_,spect_rhon,_=LA.svd(psi_12)\n",
    "print(spect_rho**2)\n",
    "print(eig_rho_1)\n",
    "\n",
    "print(spect_rhon**2)\n",
    "print(eig_rhon_1)"
   ]
  },
  {
   "cell_type": "markdown",
   "id": "472267e3",
   "metadata": {},
   "source": [
    "So we we will use this fact since this allows to avoid constructing explicilty the reduced density matrices. Now we show how to compute the spectrum of the three two bodies reduced density matrices contained in a three spin state. "
   ]
  },
  {
   "cell_type": "code",
   "execution_count": 46,
   "id": "1316b1f4",
   "metadata": {},
   "outputs": [
    {
     "name": "stdout",
     "output_type": "stream",
     "text": [
      "Entanglement and Renyi and Tsallis 2 for 12\n",
      "0.2204176269487484\n",
      "0.8913687148040907\n",
      "0.11499711578281334\n",
      "Entanglement and Renyi and Tsallis 2 for 23\n",
      "0.28139802441438966\n",
      "0.8509887545539765\n",
      "0.16135636488623062\n",
      "Entanglement and Renyi and Tsallis 2 for 13\n",
      "0.22216060639043686\n",
      "0.8902634756937283\n",
      "0.11623781996186441\n"
     ]
    }
   ],
   "source": [
    "\n",
    "psi_8 =np.array(np.random.rand(8) +1j*np.random.rand(8))\n",
    "psi_8=np.reshape(psi_8,[8,1])\n",
    "psi_8=psi_8/LA.norm(psi_8)\n",
    "\n",
    "psi_8_t =np.reshape(psi_8,[2,2,2])\n",
    "psi_12_3 = np.reshape(psi_8_t,[4,2])\n",
    "psi_1_23 = np.reshape(psi_8_t,[2,4])\n",
    "psi_13_2 =np.reshape(np.transpose(psi_8_t,[0,2,1]),[4,2])\n",
    "\n",
    "\n",
    "_,svd_12,_ =LA.svd(psi_12_3)\n",
    "_,svd_23,_ =LA.svd(psi_1_23)\n",
    "_,svd_13,_ =LA.svd(psi_13_2)\n",
    "\n",
    "\n",
    "vn_ent_12,tsallis_2_12,renyi_2_12 =compute_entropies(svd_12**2,2)\n",
    "\n",
    "print('Entanglement and Renyi and Tsallis 2 for 12')\n",
    "print(vn_ent_12)\n",
    "print(tsallis_2_12)\n",
    "print(renyi_2_12)\n",
    "\n",
    "print('Entanglement and Renyi and Tsallis 2 for 23')\n",
    "\n",
    "vn_ent_23,tsallis_2_23,renyi_2_23 =compute_entropies(svd_23**2,2)\n",
    "print(vn_ent_23)\n",
    "print(tsallis_2_23)\n",
    "print(renyi_2_23)\n",
    "\n",
    "\n",
    "print('Entanglement and Renyi and Tsallis 2 for 13')\n",
    "\n",
    "vn_ent_13,tsallis_2_13,renyi_2_13 =compute_entropies(svd_13**2,2)\n",
    "print(vn_ent_13)\n",
    "print(tsallis_2_13)\n",
    "print(renyi_2_13)"
   ]
  },
  {
   "cell_type": "code",
   "execution_count": null,
   "id": "b18c3ad4",
   "metadata": {},
   "outputs": [],
   "source": []
  }
 ],
 "metadata": {
  "kernelspec": {
   "display_name": "Python 3 (ipykernel)",
   "language": "python",
   "name": "python3"
  },
  "language_info": {
   "codemirror_mode": {
    "name": "ipython",
    "version": 3
   },
   "file_extension": ".py",
   "mimetype": "text/x-python",
   "name": "python",
   "nbconvert_exporter": "python",
   "pygments_lexer": "ipython3",
   "version": "3.9.13"
  }
 },
 "nbformat": 4,
 "nbformat_minor": 5
}
